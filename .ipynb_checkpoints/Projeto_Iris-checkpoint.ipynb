{
 "cells": [
  {
   "cell_type": "code",
   "execution_count": null,
   "metadata": {
    "id": "XCVCu4eYZ8mc"
   },
   "outputs": [],
   "source": [
    "#seu código vai aqui\n",
    "import cv2 as cv\n",
    "import matplotlib.pyplot as plt\n",
    "from mpl_toolkits.axes_grid1 import ImageGrid\n",
    "import numpy as np\n",
    "import os\n",
    "from shutil import rmtree\n",
    "\n",
    "def getNSamples(N: int, return_labels=False):\n",
    "    samples = []\n",
    "    labels = []\n",
    "    for _ in range(N):\n",
    "        person = np.random.choice(os.listdir(\"train\"))\n",
    "        image = np.random.choice(os.listdir(f\"train/{person}\"))\n",
    "        samples.append(cv.imread(f\"train/{person}/{image}\", cv.IMREAD_GRAYSCALE))\n",
    "        labels.append(person)\n",
    "    if(return_labels):\n",
    "        return samples, labels\n",
    "    return samples\n",
    "\n",
    "def plotN(samples):\n",
    "    N = len(samples)\n",
    "    if not int(np.sqrt(N) + 0.5) ** 2 == N:\n",
    "        print(\"Number of samples must be a perfect square!\")\n",
    "        return None\n",
    "    l = int(np.sqrt(N) + 0.5)\n",
    "    size = min(l*3, 24)\n",
    "    fig = plt.figure(figsize=(size, size))\n",
    "    grid = ImageGrid(fig, 111,  # similar to subplot(111)\n",
    "                    nrows_ncols=(l, l),  # creates 2x2 grid of axes\n",
    "                    axes_pad=0.1,  # pad between axes in inch.\n",
    "                    )\n",
    "\n",
    "    for ax, im in zip(grid, samples):\n",
    "        # Iterating over the grid returns the Axes.\n",
    "        ax.imshow(im, cmap=\"gray\")\n",
    "\n",
    "    plt.show()\n",
    "\n",
    "def extract_cornea(samples, debug=False):\n",
    "    kernel = np.ones((9,9),np.uint8)\n",
    "    samples_processed = [0]*len(samples)\n",
    "    for i in range(len(samples)):\n",
    "        img = samples[i]\n",
    "        processed_img = cv.GaussianBlur(img,(3,3),cv.BORDER_DEFAULT)\n",
    "        # processed_img = cv.medianBlur(img, 3)\n",
    "        processed_img = cv.morphologyEx(processed_img, cv.MORPH_OPEN, kernel)\n",
    "        # processed_img = cv.equalizeHist(img)\n",
    "        ret = cv.HoughCircles(processed_img, method=cv.HOUGH_GRADIENT, dp=2, minDist=85, param1=65, param2=40, minRadius=30, maxRadius=100)\n",
    "        iter = 0\n",
    "        if(ret is not None):\n",
    "            for circ in ret[0].astype(int):\n",
    "                if(iter>2):\n",
    "                    continue\n",
    "                if debug:\n",
    "                    if iter == 0:\n",
    "                        cv.circle(processed_img,(circ[0],circ[1]),200,(255),4)\n",
    "                    else:\n",
    "                        cv.circle(processed_img,(circ[0],circ[1]),200,(0),4)\n",
    "                else:\n",
    "                    if iter == 0:\n",
    "                        cv.circle(img,(circ[0],circ[1]),200,(255),4)\n",
    "                    else:\n",
    "                        cv.circle(img,(circ[0],circ[1]),200,(0),4)\n",
    "                iter+=1\n",
    "        if debug:\n",
    "            samples_processed[i] = processed_img.copy()\n",
    "        else:\n",
    "            samples_processed[i] = img.copy()\n",
    "    return samples_processed\n",
    "\n",
    "def simpleCleanup(samples, cL = 30, tGS = (5,5)):\n",
    "    samples_processed = [0]*len(samples)\n",
    "    for i in range(len(samples)):\n",
    "        img = samples[i]\n",
    "        processed_img = cv.medianBlur(img, 3)\n",
    "        clahe = cv.createCLAHE(clipLimit = cL, tileGridSize= tGS)\n",
    "        processed_img = clahe.apply(processed_img)\n",
    "        samples_processed[i] = processed_img.copy()\n",
    "    return samples_processed\n",
    "\n",
    "\n",
    "def morphEx(samples):\n",
    "    samples_processed = [0]*len(samples)\n",
    "    for i in range(len(samples)):\n",
    "        img = samples[i]\n",
    "        ## Code goes here\n",
    "        processed_img = cv.morphologyEx(img, cv.MORPH_OPEN, kernel)\n",
    "        samples_processed[i] = processed_img.copy()\n",
    "    return samples_processed\n",
    "\n",
    "\n",
    "def meanPixelSample(samples):\n",
    "    mean = 0\n",
    "    for img in samples:\n",
    "        flatten_img = img.flatten()\n",
    "        mean_pxl = np.mean(flatten_img)\n",
    "        mean += mean_pxl\n",
    "    mean /=len(samples)\n",
    "    return mean\n",
    "\n",
    "def createClahe(samples):\n",
    "    samples_processed = [0]*len(samples)\n",
    "    for i in range(len(samples)):\n",
    "        img = samples[i]\n",
    "        clahe = cv.createCLAHE(clipLimit = 30, tileGridSize= (5,5))\n",
    "        processed_img = clahe.apply(img)\n",
    "        samples_processed[i] = processed_img.copy()\n",
    "    return samples_processed\n",
    "    \n",
    "\n",
    "def histEqualization(samples):\n",
    "    samples_processed = [0]*len(samples)\n",
    "    for i in range(len(samples)):\n",
    "        img = samples[i]\n",
    "        processed_img = cv.equalizeHist(img)\n",
    "        samples_processed[i] = processed_img.copy()\n",
    "    return samples_processed\n",
    "\n",
    "def gausBlur(samples):\n",
    "    samples_processed = [0]*len(samples)\n",
    "    for i in range(len(samples)):\n",
    "        img = samples[i]\n",
    "        processed_img = cv.GaussianBlur(img,(3,3),cv.BORDER_DEFAULT)\n",
    "        samples_processed[i] = processed_img.copy()\n",
    "    return samples_processed\n",
    "\n",
    "\n",
    "def applyFunctions(samples, functions):\n",
    "    samples_processed = [0]*len(samples)\n",
    "    firstFunc = True\n",
    "    for f in functions:\n",
    "        if firstFunc == True:\n",
    "            samples_processed = f(samples)\n",
    "            firstFunc = False\n",
    "        else:\n",
    "            samples_processed = f(samples_processed)\n",
    "    return samples_processed\n",
    "\n",
    "def centerHist(samples):\n",
    "    samples_processed = [0]*len(samples)\n",
    "    for i in range(len(samples)):\n",
    "        img = samples[i]\n",
    "        imgMedian = np.median(img.flatten())\n",
    "        processed_img = cv.add(img, 127-imgMedian)\n",
    "        samples_processed[i] = processed_img.copy()\n",
    "    return samples_processed\n",
    "    \n"
   ]
  },
  {
   "cell_type": "code",
   "execution_count": null,
   "metadata": {},
   "outputs": [],
   "source": [
    "# Number of samples\n",
    "experiments = [{\"cL\":30+i, \"tGS\":(5,5)} for i in range(-15,16)]\n",
    "N = 16\n",
    "samples = getNSamples(N)\n",
    "for exp in experiments:\n",
    "    print(exp)\n",
    "    samples_processed = comboCleanup(samples, exp)\n",
    "    # samples_processed = extract_cornea(samples_processed, True)\n",
    "    plotN(samples_processed)"
   ]
  },
  {
   "cell_type": "code",
   "execution_count": null,
   "metadata": {},
   "outputs": [],
   "source": [
    "# Number of samples\n",
    "experiments = [{\"cL\":30, \"tGS\":(5,5)}]\n",
    "N = 100\n",
    "samples, labels = getNSamples(N, True)\n",
    "for exp in experiments:\n",
    "    print(exp)\n",
    "    samples_processed = simpleCleanup(samples, exp[\"cL\"], exp[\"tGS\"])\n",
    "    # samples_processed = extract_cornea(samples_processed, True)\n",
    "    plotN(samples_processed)"
   ]
  },
  {
   "cell_type": "code",
   "execution_count": null,
   "metadata": {},
   "outputs": [],
   "source": [
    "if \"processedTraining\" in os.listdir():\n",
    "    rmtree(\"processedTraining\")\n",
    "os.mkdir(\"processedTraining\")\n",
    "for l in os.listdir(\"train\"):\n",
    "    try:\n",
    "        os.mkdir(f\"processedTraining/{l}\")\n",
    "    except WindowsError:\n",
    "        continue\n",
    "\n",
    "\n",
    "for folder_name in os.listdir(\"train\"):\n",
    "    for fn in os.listdir(f\"train/{folder_name}\"):\n",
    "        img = cv.imread(f\"train/{folder_name}/{fn}\", cv.IMREAD_GRAYSCALE)\n",
    "        processed_img = simpleCleanup([img], cL=15, tGS=(7,7))[0]\n",
    "        cv.imwrite(f\"processedTraining/{folder_name}/{fn}\", processed_img)\n"
   ]
  },
  {
   "cell_type": "code",
   "execution_count": null,
   "metadata": {},
   "outputs": [],
   "source": [
    "# Number of samples\n",
    "experiments = [{\"cL\":15, \"tGS\":(7,7)}]\n",
    "N = 36\n",
    "samples, labels = getNSamples(N, True)\n",
    "for exp in experiments:\n",
    "    print(exp)\n",
    "    samples_processed = simpleCleanup(samples, exp[\"cL\"], exp[\"tGS\"])\n",
    "    # samples_processed = extract_cornea(samples_processed, True)\n",
    "    plotN(samples_processed)"
   ]
  },
  {
   "cell_type": "code",
   "execution_count": null,
   "metadata": {},
   "outputs": [],
   "source": [
    "if \"processedTest\" in os.listdir():\n",
    "    rmtree(\"processedTest\")\n",
    "os.mkdir(\"processedTest\")\n",
    "for i in range(N):\n",
    "    cv.imwrite(f\"processedTest/{i}.bmp\", samples_processed[i])"
   ]
  },
  {
   "cell_type": "code",
   "execution_count": null,
   "metadata": {},
   "outputs": [],
   "source": [
    "ik = cv.imread(f\"processedTest/0.bmp\", cv.IMREAD_GRAYSCALE)\n",
    "print(ik.shape)\n",
    "plt.imshow(ik, cmap=\"gray\")\n"
   ]
  },
  {
   "cell_type": "code",
   "execution_count": null,
   "metadata": {},
   "outputs": [],
   "source": [
    "N = 25\n",
    "samples, labels = getNSamples(N, True)"
   ]
  },
  {
   "cell_type": "code",
   "execution_count": null,
   "metadata": {},
   "outputs": [],
   "source": [
    "plotN(samples)"
   ]
  },
  {
   "cell_type": "code",
   "execution_count": null,
   "metadata": {},
   "outputs": [],
   "source": [
    "funcs1 = [centerHist]\n",
    "funcs2 = [createClahe]"
   ]
  },
  {
   "cell_type": "code",
   "execution_count": null,
   "metadata": {},
   "outputs": [],
   "source": [
    "transform1 = applyFunctions(samples, funcs1)\n",
    "plotN(transform1)"
   ]
  },
  {
   "cell_type": "code",
   "execution_count": null,
   "metadata": {},
   "outputs": [],
   "source": [
    "transform2 = applyFunctions(samples, funcs2)\n",
    "plotN(transform2)"
   ]
  },
  {
   "cell_type": "code",
   "execution_count": null,
   "metadata": {},
   "outputs": [],
   "source": [
    "transform3 = applyFunctions(transform1, funcs2)\n",
    "plotN(transform3)"
   ]
  },
  {
   "cell_type": "markdown",
   "metadata": {
    "id": "J9SPAQQvuXrV"
   },
   "source": [
    "**PROJETO IRIS - DATA DE ENTREGA: 07/10/2020**\n",
    "\n",
    "\n",
    "*   Crie um modelo de treinamento usando a base de dados fornecida (60 pessoas com 20 íris cada ~ 1200 imagens). Durante o treinamento, você pode utilizar qualquer procedimento para melhorar a qualidade das imagens.\n",
    "*   Obtenha a matriz de confusão do seu modelo e analise os resultados\n",
    "\n",
    "**O que entregar:** notebook implementado em Python. \n",
    "\n",
    "\n"
   ]
  }
 ],
 "metadata": {
  "colab": {
   "collapsed_sections": [],
   "name": "Projeto_Iris.ipynb",
   "provenance": []
  },
  "interpreter": {
   "hash": "b3ba2566441a7c06988d0923437866b63cedc61552a5af99d1f4fb67d367b25f"
  },
  "kernelspec": {
   "display_name": "Python 3",
   "language": "python",
   "name": "python3"
  },
  "language_info": {
   "codemirror_mode": {
    "name": "ipython",
    "version": 3
   },
   "file_extension": ".py",
   "mimetype": "text/x-python",
   "name": "python",
   "nbconvert_exporter": "python",
   "pygments_lexer": "ipython3",
   "version": "3.7.1"
  }
 },
 "nbformat": 4,
 "nbformat_minor": 2
}
